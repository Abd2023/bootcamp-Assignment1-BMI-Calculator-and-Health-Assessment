#Solution


weight = float(input("enter your weight in kilograms:"))
while weight <=0 : 
  print("weight can not be negative or zero")
  weight = float(input("enter your weight in kilograms:"))

  


height = float(input("enter your height in meters :"))
while height <=0:
  print("height can not be negative or zero")
  height = float(input("enter your height in meters :"))


BMI = weight / (height * height)

print(f"your BMI is ${BMI : .2f} ")

if BMI < 18.5:
  print("you are underweight ")
elif BMI < 24.9:
  print("you are normal ")
elif BMI < 29.9:
  print("you are overweight ")
elif BMI >= 30:
  print("you have obesity ")
